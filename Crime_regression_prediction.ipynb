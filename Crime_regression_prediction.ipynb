{
 "cells": [
  {
   "cell_type": "markdown",
   "metadata": {},
   "source": [
    "# Spending on Education and Corrections vs Crime Level"
   ]
  },
  {
   "cell_type": "markdown",
   "metadata": {},
   "source": [
    "### Hypothesis"
   ]
  },
  {
   "cell_type": "markdown",
   "metadata": {},
   "source": [
    "The amount spent on education and corrections is a predictor for the number of crimes committed"
   ]
  },
  {
   "cell_type": "code",
   "execution_count": 1,
   "metadata": {
    "collapsed": true
   },
   "outputs": [],
   "source": [
    "# dependencies\n",
    "%matplotlib inline\n",
    "import matplotlib.pyplot as plt\n",
    "import numpy as np\n",
    "import pandas as pd\n",
    "import os\n",
    "from functools import reduce"
   ]
  },
  {
   "cell_type": "markdown",
   "metadata": {},
   "source": [
    "# Assemble Data"
   ]
  },
  {
   "cell_type": "code",
   "execution_count": 2,
   "metadata": {},
   "outputs": [
    {
     "data": {
      "text/html": [
       "<div>\n",
       "<style>\n",
       "    .dataframe thead tr:only-child th {\n",
       "        text-align: right;\n",
       "    }\n",
       "\n",
       "    .dataframe thead th {\n",
       "        text-align: left;\n",
       "    }\n",
       "\n",
       "    .dataframe tbody tr th {\n",
       "        vertical-align: top;\n",
       "    }\n",
       "</style>\n",
       "<table border=\"1\" class=\"dataframe\">\n",
       "  <thead>\n",
       "    <tr style=\"text-align: right;\">\n",
       "      <th></th>\n",
       "      <th>Corrections</th>\n",
       "      <th>Alabama</th>\n",
       "      <th>Alaska</th>\n",
       "      <th>Arizona</th>\n",
       "      <th>Arkansas</th>\n",
       "      <th>California</th>\n",
       "      <th>Colorado</th>\n",
       "      <th>Connecticut</th>\n",
       "      <th>Delaware</th>\n",
       "      <th>Florida</th>\n",
       "      <th>...</th>\n",
       "      <th>South Dakota</th>\n",
       "      <th>Tennessee</th>\n",
       "      <th>Texas</th>\n",
       "      <th>Utah</th>\n",
       "      <th>Vermont</th>\n",
       "      <th>Virginia</th>\n",
       "      <th>Washington</th>\n",
       "      <th>West Virginia</th>\n",
       "      <th>Wisconsin</th>\n",
       "      <th>Wyoming</th>\n",
       "    </tr>\n",
       "    <tr>\n",
       "      <th>State</th>\n",
       "      <th></th>\n",
       "      <th></th>\n",
       "      <th></th>\n",
       "      <th></th>\n",
       "      <th></th>\n",
       "      <th></th>\n",
       "      <th></th>\n",
       "      <th></th>\n",
       "      <th></th>\n",
       "      <th></th>\n",
       "      <th></th>\n",
       "      <th></th>\n",
       "      <th></th>\n",
       "      <th></th>\n",
       "      <th></th>\n",
       "      <th></th>\n",
       "      <th></th>\n",
       "      <th></th>\n",
       "      <th></th>\n",
       "      <th></th>\n",
       "      <th></th>\n",
       "    </tr>\n",
       "  </thead>\n",
       "  <tbody>\n",
       "    <tr>\n",
       "      <th>2000</th>\n",
       "      <td>35129203</td>\n",
       "      <td>278856</td>\n",
       "      <td>173624</td>\n",
       "      <td>719690</td>\n",
       "      <td>275158</td>\n",
       "      <td>4244680</td>\n",
       "      <td>689090</td>\n",
       "      <td>555449</td>\n",
       "      <td>228076</td>\n",
       "      <td>2218703</td>\n",
       "      <td>...</td>\n",
       "      <td>62831</td>\n",
       "      <td>449107</td>\n",
       "      <td>2766911</td>\n",
       "      <td>245401</td>\n",
       "      <td>66127</td>\n",
       "      <td>1123734</td>\n",
       "      <td>731277</td>\n",
       "      <td>156190</td>\n",
       "      <td>837496</td>\n",
       "      <td>73469</td>\n",
       "    </tr>\n",
       "    <tr>\n",
       "      <th>2001</th>\n",
       "      <td>38164541</td>\n",
       "      <td>303759</td>\n",
       "      <td>172610</td>\n",
       "      <td>760323</td>\n",
       "      <td>290520</td>\n",
       "      <td>5313697</td>\n",
       "      <td>704421</td>\n",
       "      <td>604890</td>\n",
       "      <td>247987</td>\n",
       "      <td>2248117</td>\n",
       "      <td>...</td>\n",
       "      <td>66745</td>\n",
       "      <td>491727</td>\n",
       "      <td>3074359</td>\n",
       "      <td>265689</td>\n",
       "      <td>71988</td>\n",
       "      <td>1247296</td>\n",
       "      <td>730116</td>\n",
       "      <td>122009</td>\n",
       "      <td>932819</td>\n",
       "      <td>80018</td>\n",
       "    </tr>\n",
       "    <tr>\n",
       "      <th>2002</th>\n",
       "      <td>38887742</td>\n",
       "      <td>331476</td>\n",
       "      <td>173844</td>\n",
       "      <td>733455</td>\n",
       "      <td>284600</td>\n",
       "      <td>5596427</td>\n",
       "      <td>734457</td>\n",
       "      <td>637897</td>\n",
       "      <td>245203</td>\n",
       "      <td>2199630</td>\n",
       "      <td>...</td>\n",
       "      <td>69673</td>\n",
       "      <td>529747</td>\n",
       "      <td>3157124</td>\n",
       "      <td>267607</td>\n",
       "      <td>79771</td>\n",
       "      <td>1243090</td>\n",
       "      <td>735214</td>\n",
       "      <td>170305</td>\n",
       "      <td>965801</td>\n",
       "      <td>83268</td>\n",
       "    </tr>\n",
       "    <tr>\n",
       "      <th>2003</th>\n",
       "      <td>39187839</td>\n",
       "      <td>356928</td>\n",
       "      <td>182046</td>\n",
       "      <td>731041</td>\n",
       "      <td>305803</td>\n",
       "      <td>5690346</td>\n",
       "      <td>723572</td>\n",
       "      <td>615670</td>\n",
       "      <td>206085</td>\n",
       "      <td>2141271</td>\n",
       "      <td>...</td>\n",
       "      <td>79858</td>\n",
       "      <td>558669</td>\n",
       "      <td>3201068</td>\n",
       "      <td>261283</td>\n",
       "      <td>81767</td>\n",
       "      <td>1194241</td>\n",
       "      <td>786781</td>\n",
       "      <td>182064</td>\n",
       "      <td>906725</td>\n",
       "      <td>89551</td>\n",
       "    </tr>\n",
       "    <tr>\n",
       "      <th>2004</th>\n",
       "      <td>39313812</td>\n",
       "      <td>397943</td>\n",
       "      <td>176642</td>\n",
       "      <td>790485</td>\n",
       "      <td>351786</td>\n",
       "      <td>5875717</td>\n",
       "      <td>701710</td>\n",
       "      <td>558043</td>\n",
       "      <td>202782</td>\n",
       "      <td>2185039</td>\n",
       "      <td>...</td>\n",
       "      <td>61675</td>\n",
       "      <td>596095</td>\n",
       "      <td>2972593</td>\n",
       "      <td>275912</td>\n",
       "      <td>93827</td>\n",
       "      <td>1215898</td>\n",
       "      <td>796810</td>\n",
       "      <td>182906</td>\n",
       "      <td>918706</td>\n",
       "      <td>91003</td>\n",
       "    </tr>\n",
       "  </tbody>\n",
       "</table>\n",
       "<p>5 rows × 51 columns</p>\n",
       "</div>"
      ],
      "text/plain": [
       "       Corrections  Alabama  Alaska  Arizona  Arkansas  California  Colorado  \\\n",
       "State                                                                          \n",
       "2000      35129203   278856  173624   719690    275158     4244680    689090   \n",
       "2001      38164541   303759  172610   760323    290520     5313697    704421   \n",
       "2002      38887742   331476  173844   733455    284600     5596427    734457   \n",
       "2003      39187839   356928  182046   731041    305803     5690346    723572   \n",
       "2004      39313812   397943  176642   790485    351786     5875717    701710   \n",
       "\n",
       "       Connecticut  Delaware  Florida   ...     South Dakota  Tennessee  \\\n",
       "State                                   ...                               \n",
       "2000        555449    228076  2218703   ...            62831     449107   \n",
       "2001        604890    247987  2248117   ...            66745     491727   \n",
       "2002        637897    245203  2199630   ...            69673     529747   \n",
       "2003        615670    206085  2141271   ...            79858     558669   \n",
       "2004        558043    202782  2185039   ...            61675     596095   \n",
       "\n",
       "         Texas    Utah  Vermont  Virginia  Washington  West Virginia  \\\n",
       "State                                                                  \n",
       "2000   2766911  245401    66127   1123734      731277         156190   \n",
       "2001   3074359  265689    71988   1247296      730116         122009   \n",
       "2002   3157124  267607    79771   1243090      735214         170305   \n",
       "2003   3201068  261283    81767   1194241      786781         182064   \n",
       "2004   2972593  275912    93827   1215898      796810         182906   \n",
       "\n",
       "       Wisconsin  Wyoming  \n",
       "State                      \n",
       "2000      837496    73469  \n",
       "2001      932819    80018  \n",
       "2002      965801    83268  \n",
       "2003      906725    89551  \n",
       "2004      918706    91003  \n",
       "\n",
       "[5 rows x 51 columns]"
      ]
     },
     "execution_count": 2,
     "metadata": {},
     "output_type": "execute_result"
    }
   ],
   "source": [
    "# load corrections data\n",
    "corrections_path = os.path.join('data', 'corrections', 'corrections_all.csv')\n",
    "corrections_df = pd.read_csv(corrections_path)\n",
    "corrections_df.set_index('State', inplace=True)\n",
    "corrections_df.rename(columns={'Total':'Corrections'}, inplace=True)\n",
    "corrections_df.head()"
   ]
  },
  {
   "cell_type": "code",
   "execution_count": 3,
   "metadata": {},
   "outputs": [
    {
     "data": {
      "text/html": [
       "<div>\n",
       "<style>\n",
       "    .dataframe thead tr:only-child th {\n",
       "        text-align: right;\n",
       "    }\n",
       "\n",
       "    .dataframe thead th {\n",
       "        text-align: left;\n",
       "    }\n",
       "\n",
       "    .dataframe tbody tr th {\n",
       "        vertical-align: top;\n",
       "    }\n",
       "</style>\n",
       "<table border=\"1\" class=\"dataframe\">\n",
       "  <thead>\n",
       "    <tr style=\"text-align: right;\">\n",
       "      <th></th>\n",
       "      <th>ALABAMA</th>\n",
       "      <th>ALASKA</th>\n",
       "      <th>ARIZONA</th>\n",
       "      <th>ARKANSAS</th>\n",
       "      <th>CALIFORNIA</th>\n",
       "      <th>COLORADO</th>\n",
       "      <th>CONNECTICUT</th>\n",
       "      <th>DELAWARE</th>\n",
       "      <th>FLORIDA</th>\n",
       "      <th>GEORGIA</th>\n",
       "      <th>...</th>\n",
       "      <th>TENNESSEE</th>\n",
       "      <th>TEXAS</th>\n",
       "      <th>UTAH</th>\n",
       "      <th>VERMONT</th>\n",
       "      <th>VIRGINIA</th>\n",
       "      <th>WASHINGTON</th>\n",
       "      <th>WEST VIRGINIA</th>\n",
       "      <th>WISCONSIN</th>\n",
       "      <th>WYOMING</th>\n",
       "      <th>Crime</th>\n",
       "    </tr>\n",
       "    <tr>\n",
       "      <th>State</th>\n",
       "      <th></th>\n",
       "      <th></th>\n",
       "      <th></th>\n",
       "      <th></th>\n",
       "      <th></th>\n",
       "      <th></th>\n",
       "      <th></th>\n",
       "      <th></th>\n",
       "      <th></th>\n",
       "      <th></th>\n",
       "      <th></th>\n",
       "      <th></th>\n",
       "      <th></th>\n",
       "      <th></th>\n",
       "      <th></th>\n",
       "      <th></th>\n",
       "      <th></th>\n",
       "      <th></th>\n",
       "      <th></th>\n",
       "      <th></th>\n",
       "      <th></th>\n",
       "    </tr>\n",
       "  </thead>\n",
       "  <tbody>\n",
       "    <tr>\n",
       "      <th>2000</th>\n",
       "      <td>202159</td>\n",
       "      <td>26641</td>\n",
       "      <td>299092</td>\n",
       "      <td>110019</td>\n",
       "      <td>1266714</td>\n",
       "      <td>171304</td>\n",
       "      <td>110091</td>\n",
       "      <td>35090</td>\n",
       "      <td>910154</td>\n",
       "      <td>388949</td>\n",
       "      <td>...</td>\n",
       "      <td>278218</td>\n",
       "      <td>1033311</td>\n",
       "      <td>99958</td>\n",
       "      <td>18185</td>\n",
       "      <td>214348</td>\n",
       "      <td>300932</td>\n",
       "      <td>47067</td>\n",
       "      <td>172124</td>\n",
       "      <td>16285</td>\n",
       "      <td>11564125</td>\n",
       "    </tr>\n",
       "    <tr>\n",
       "      <th>2001</th>\n",
       "      <td>192835</td>\n",
       "      <td>26895</td>\n",
       "      <td>322549</td>\n",
       "      <td>111296</td>\n",
       "      <td>1346557</td>\n",
       "      <td>186379</td>\n",
       "      <td>106791</td>\n",
       "      <td>32267</td>\n",
       "      <td>913230</td>\n",
       "      <td>389543</td>\n",
       "      <td>...</td>\n",
       "      <td>295770</td>\n",
       "      <td>1098809</td>\n",
       "      <td>96307</td>\n",
       "      <td>16978</td>\n",
       "      <td>228445</td>\n",
       "      <td>308492</td>\n",
       "      <td>46120</td>\n",
       "      <td>179410</td>\n",
       "      <td>17392</td>\n",
       "      <td>11804921</td>\n",
       "    </tr>\n",
       "    <tr>\n",
       "      <th>2002</th>\n",
       "      <td>200331</td>\n",
       "      <td>27745</td>\n",
       "      <td>348467</td>\n",
       "      <td>112672</td>\n",
       "      <td>1384872</td>\n",
       "      <td>195936</td>\n",
       "      <td>103719</td>\n",
       "      <td>31803</td>\n",
       "      <td>905957</td>\n",
       "      <td>385830</td>\n",
       "      <td>...</td>\n",
       "      <td>290961</td>\n",
       "      <td>1130292</td>\n",
       "      <td>103129</td>\n",
       "      <td>15600</td>\n",
       "      <td>229039</td>\n",
       "      <td>309931</td>\n",
       "      <td>45320</td>\n",
       "      <td>176987</td>\n",
       "      <td>17858</td>\n",
       "      <td>11831419</td>\n",
       "    </tr>\n",
       "    <tr>\n",
       "      <th>2003</th>\n",
       "      <td>201572</td>\n",
       "      <td>28130</td>\n",
       "      <td>342973</td>\n",
       "      <td>111141</td>\n",
       "      <td>1420637</td>\n",
       "      <td>195046</td>\n",
       "      <td>101537</td>\n",
       "      <td>33046</td>\n",
       "      <td>881976</td>\n",
       "      <td>408923</td>\n",
       "      <td>...</td>\n",
       "      <td>296010</td>\n",
       "      <td>1138623</td>\n",
       "      <td>105207</td>\n",
       "      <td>14303</td>\n",
       "      <td>220106</td>\n",
       "      <td>312820</td>\n",
       "      <td>47375</td>\n",
       "      <td>169842</td>\n",
       "      <td>17962</td>\n",
       "      <td>11775044</td>\n",
       "    </tr>\n",
       "    <tr>\n",
       "      <th>2004</th>\n",
       "      <td>201664</td>\n",
       "      <td>26331</td>\n",
       "      <td>335699</td>\n",
       "      <td>124201</td>\n",
       "      <td>1425264</td>\n",
       "      <td>197527</td>\n",
       "      <td>102078</td>\n",
       "      <td>30992</td>\n",
       "      <td>850895</td>\n",
       "      <td>416873</td>\n",
       "      <td>...</td>\n",
       "      <td>295147</td>\n",
       "      <td>1132256</td>\n",
       "      <td>103246</td>\n",
       "      <td>15039</td>\n",
       "      <td>220227</td>\n",
       "      <td>322167</td>\n",
       "      <td>50421</td>\n",
       "      <td>158258</td>\n",
       "      <td>18052</td>\n",
       "      <td>11660778</td>\n",
       "    </tr>\n",
       "    <tr>\n",
       "      <th>2005</th>\n",
       "      <td>197071</td>\n",
       "      <td>28169</td>\n",
       "      <td>317823</td>\n",
       "      <td>127434</td>\n",
       "      <td>1390709</td>\n",
       "      <td>206947</td>\n",
       "      <td>99429</td>\n",
       "      <td>31577</td>\n",
       "      <td>838955</td>\n",
       "      <td>419259</td>\n",
       "      <td>...</td>\n",
       "      <td>299839</td>\n",
       "      <td>1111384</td>\n",
       "      <td>101158</td>\n",
       "      <td>14956</td>\n",
       "      <td>221044</td>\n",
       "      <td>329406</td>\n",
       "      <td>52653</td>\n",
       "      <td>160646</td>\n",
       "      <td>17242</td>\n",
       "      <td>11522689</td>\n",
       "    </tr>\n",
       "    <tr>\n",
       "      <th>2006</th>\n",
       "      <td>200578</td>\n",
       "      <td>28765</td>\n",
       "      <td>316286</td>\n",
       "      <td>127027</td>\n",
       "      <td>1350137</td>\n",
       "      <td>182670</td>\n",
       "      <td>97605</td>\n",
       "      <td>34988</td>\n",
       "      <td>849879</td>\n",
       "      <td>408289</td>\n",
       "      <td>...</td>\n",
       "      <td>295204</td>\n",
       "      <td>1080838</td>\n",
       "      <td>95393</td>\n",
       "      <td>15231</td>\n",
       "      <td>210974</td>\n",
       "      <td>308653</td>\n",
       "      <td>52759</td>\n",
       "      <td>172354</td>\n",
       "      <td>16584</td>\n",
       "      <td>11365478</td>\n",
       "    </tr>\n",
       "    <tr>\n",
       "      <th>2007</th>\n",
       "      <td>204530</td>\n",
       "      <td>27617</td>\n",
       "      <td>310394</td>\n",
       "      <td>127068</td>\n",
       "      <td>1299685</td>\n",
       "      <td>163047</td>\n",
       "      <td>93017</td>\n",
       "      <td>35103</td>\n",
       "      <td>878227</td>\n",
       "      <td>419417</td>\n",
       "      <td>...</td>\n",
       "      <td>298104</td>\n",
       "      <td>1107196</td>\n",
       "      <td>98804</td>\n",
       "      <td>15202</td>\n",
       "      <td>211007</td>\n",
       "      <td>282275</td>\n",
       "      <td>50740</td>\n",
       "      <td>175255</td>\n",
       "      <td>16235</td>\n",
       "      <td>11214590</td>\n",
       "    </tr>\n",
       "    <tr>\n",
       "      <th>2008</th>\n",
       "      <td>211454</td>\n",
       "      <td>24598</td>\n",
       "      <td>307979</td>\n",
       "      <td>123882</td>\n",
       "      <td>1265920</td>\n",
       "      <td>157671</td>\n",
       "      <td>96514</td>\n",
       "      <td>37444</td>\n",
       "      <td>885199</td>\n",
       "      <td>435319</td>\n",
       "      <td>...</td>\n",
       "      <td>296142</td>\n",
       "      <td>1093134</td>\n",
       "      <td>97943</td>\n",
       "      <td>16615</td>\n",
       "      <td>215516</td>\n",
       "      <td>267839</td>\n",
       "      <td>51575</td>\n",
       "      <td>170548</td>\n",
       "      <td>15710</td>\n",
       "      <td>11111207</td>\n",
       "    </tr>\n",
       "    <tr>\n",
       "      <th>2009</th>\n",
       "      <td>198808</td>\n",
       "      <td>24998</td>\n",
       "      <td>261511</td>\n",
       "      <td>123997</td>\n",
       "      <td>1184073</td>\n",
       "      <td>150944</td>\n",
       "      <td>92689</td>\n",
       "      <td>35283</td>\n",
       "      <td>825551</td>\n",
       "      <td>402280</td>\n",
       "      <td>...</td>\n",
       "      <td>278406</td>\n",
       "      <td>1116813</td>\n",
       "      <td>97129</td>\n",
       "      <td>15748</td>\n",
       "      <td>209332</td>\n",
       "      <td>266424</td>\n",
       "      <td>51377</td>\n",
       "      <td>162019</td>\n",
       "      <td>15596</td>\n",
       "      <td>10602842</td>\n",
       "    </tr>\n",
       "    <tr>\n",
       "      <th>2010</th>\n",
       "      <td>186148</td>\n",
       "      <td>24796</td>\n",
       "      <td>251978</td>\n",
       "      <td>118510</td>\n",
       "      <td>1146072</td>\n",
       "      <td>151125</td>\n",
       "      <td>88443</td>\n",
       "      <td>36538</td>\n",
       "      <td>771004</td>\n",
       "      <td>391751</td>\n",
       "      <td>...</td>\n",
       "      <td>271053</td>\n",
       "      <td>1064477</td>\n",
       "      <td>93759</td>\n",
       "      <td>15096</td>\n",
       "      <td>203283</td>\n",
       "      <td>270354</td>\n",
       "      <td>47330</td>\n",
       "      <td>156754</td>\n",
       "      <td>14978</td>\n",
       "      <td>10292375</td>\n",
       "    </tr>\n",
       "  </tbody>\n",
       "</table>\n",
       "<p>11 rows × 51 columns</p>\n",
       "</div>"
      ],
      "text/plain": [
       "       ALABAMA  ALASKA  ARIZONA  ARKANSAS  CALIFORNIA  COLORADO  CONNECTICUT  \\\n",
       "State                                                                          \n",
       "2000    202159   26641   299092    110019     1266714    171304       110091   \n",
       "2001    192835   26895   322549    111296     1346557    186379       106791   \n",
       "2002    200331   27745   348467    112672     1384872    195936       103719   \n",
       "2003    201572   28130   342973    111141     1420637    195046       101537   \n",
       "2004    201664   26331   335699    124201     1425264    197527       102078   \n",
       "2005    197071   28169   317823    127434     1390709    206947        99429   \n",
       "2006    200578   28765   316286    127027     1350137    182670        97605   \n",
       "2007    204530   27617   310394    127068     1299685    163047        93017   \n",
       "2008    211454   24598   307979    123882     1265920    157671        96514   \n",
       "2009    198808   24998   261511    123997     1184073    150944        92689   \n",
       "2010    186148   24796   251978    118510     1146072    151125        88443   \n",
       "\n",
       "       DELAWARE  FLORIDA  GEORGIA    ...     TENNESSEE    TEXAS    UTAH  \\\n",
       "State                                ...                                  \n",
       "2000      35090   910154   388949    ...        278218  1033311   99958   \n",
       "2001      32267   913230   389543    ...        295770  1098809   96307   \n",
       "2002      31803   905957   385830    ...        290961  1130292  103129   \n",
       "2003      33046   881976   408923    ...        296010  1138623  105207   \n",
       "2004      30992   850895   416873    ...        295147  1132256  103246   \n",
       "2005      31577   838955   419259    ...        299839  1111384  101158   \n",
       "2006      34988   849879   408289    ...        295204  1080838   95393   \n",
       "2007      35103   878227   419417    ...        298104  1107196   98804   \n",
       "2008      37444   885199   435319    ...        296142  1093134   97943   \n",
       "2009      35283   825551   402280    ...        278406  1116813   97129   \n",
       "2010      36538   771004   391751    ...        271053  1064477   93759   \n",
       "\n",
       "       VERMONT  VIRGINIA  WASHINGTON  WEST VIRGINIA  WISCONSIN  WYOMING  \\\n",
       "State                                                                     \n",
       "2000     18185    214348      300932          47067     172124    16285   \n",
       "2001     16978    228445      308492          46120     179410    17392   \n",
       "2002     15600    229039      309931          45320     176987    17858   \n",
       "2003     14303    220106      312820          47375     169842    17962   \n",
       "2004     15039    220227      322167          50421     158258    18052   \n",
       "2005     14956    221044      329406          52653     160646    17242   \n",
       "2006     15231    210974      308653          52759     172354    16584   \n",
       "2007     15202    211007      282275          50740     175255    16235   \n",
       "2008     16615    215516      267839          51575     170548    15710   \n",
       "2009     15748    209332      266424          51377     162019    15596   \n",
       "2010     15096    203283      270354          47330     156754    14978   \n",
       "\n",
       "          Crime  \n",
       "State            \n",
       "2000   11564125  \n",
       "2001   11804921  \n",
       "2002   11831419  \n",
       "2003   11775044  \n",
       "2004   11660778  \n",
       "2005   11522689  \n",
       "2006   11365478  \n",
       "2007   11214590  \n",
       "2008   11111207  \n",
       "2009   10602842  \n",
       "2010   10292375  \n",
       "\n",
       "[11 rows x 51 columns]"
      ]
     },
     "execution_count": 3,
     "metadata": {},
     "output_type": "execute_result"
    }
   ],
   "source": [
    "# load crime data\n",
    "# crime_path = os.path.join('data', 'crime', 'crime_rate_per_100_all.csv')\n",
    "crime_path = os.path.join('data', 'crime', 'crime_all.csv')\n",
    "crime_df = pd.read_csv(crime_path)\n",
    "crime_df = crime_df.drop(crime_df.index[11])\n",
    "crime_df.set_index('State', inplace=True)\n",
    "crime_df['Crime'] = crime_df.sum(axis=1)\n",
    "crime_df"
   ]
  },
  {
   "cell_type": "code",
   "execution_count": 4,
   "metadata": {},
   "outputs": [
    {
     "data": {
      "text/html": [
       "<div>\n",
       "<style>\n",
       "    .dataframe thead tr:only-child th {\n",
       "        text-align: right;\n",
       "    }\n",
       "\n",
       "    .dataframe thead th {\n",
       "        text-align: left;\n",
       "    }\n",
       "\n",
       "    .dataframe tbody tr th {\n",
       "        vertical-align: top;\n",
       "    }\n",
       "</style>\n",
       "<table border=\"1\" class=\"dataframe\">\n",
       "  <thead>\n",
       "    <tr style=\"text-align: right;\">\n",
       "      <th></th>\n",
       "      <th>Education</th>\n",
       "      <th>Alabama</th>\n",
       "      <th>Alaska</th>\n",
       "      <th>Arizona</th>\n",
       "      <th>Arkansas</th>\n",
       "      <th>California</th>\n",
       "      <th>Colorado</th>\n",
       "      <th>Connecticut</th>\n",
       "      <th>Delaware</th>\n",
       "      <th>Florida</th>\n",
       "      <th>...</th>\n",
       "      <th>South Dakota</th>\n",
       "      <th>Tennessee</th>\n",
       "      <th>Texas</th>\n",
       "      <th>Utah</th>\n",
       "      <th>Vermont</th>\n",
       "      <th>Virginia</th>\n",
       "      <th>Washington</th>\n",
       "      <th>West Virginia</th>\n",
       "      <th>Wisconsin</th>\n",
       "      <th>Wyoming</th>\n",
       "    </tr>\n",
       "    <tr>\n",
       "      <th>State</th>\n",
       "      <th></th>\n",
       "      <th></th>\n",
       "      <th></th>\n",
       "      <th></th>\n",
       "      <th></th>\n",
       "      <th></th>\n",
       "      <th></th>\n",
       "      <th></th>\n",
       "      <th></th>\n",
       "      <th></th>\n",
       "      <th></th>\n",
       "      <th></th>\n",
       "      <th></th>\n",
       "      <th></th>\n",
       "      <th></th>\n",
       "      <th></th>\n",
       "      <th></th>\n",
       "      <th></th>\n",
       "      <th></th>\n",
       "      <th></th>\n",
       "      <th></th>\n",
       "    </tr>\n",
       "  </thead>\n",
       "  <tbody>\n",
       "    <tr>\n",
       "      <th>2000</th>\n",
       "      <td>3.107050e+10</td>\n",
       "      <td>557767814</td>\n",
       "      <td>177881580</td>\n",
       "      <td>667976456</td>\n",
       "      <td>328403457</td>\n",
       "      <td>3792096590</td>\n",
       "      <td>370882855</td>\n",
       "      <td>288895735</td>\n",
       "      <td>85735787</td>\n",
       "      <td>1590311741</td>\n",
       "      <td>...</td>\n",
       "      <td>133366735</td>\n",
       "      <td>583465744</td>\n",
       "      <td>2484215057</td>\n",
       "      <td>255609306</td>\n",
       "      <td>91491401</td>\n",
       "      <td>641092965</td>\n",
       "      <td>569577741</td>\n",
       "      <td>257981746</td>\n",
       "      <td>530100703</td>\n",
       "      <td>86526320</td>\n",
       "    </tr>\n",
       "    <tr>\n",
       "      <th>2001</th>\n",
       "      <td>7.125435e+10</td>\n",
       "      <td>1205096441</td>\n",
       "      <td>227988480</td>\n",
       "      <td>1990909460</td>\n",
       "      <td>618218324</td>\n",
       "      <td>7895473833</td>\n",
       "      <td>1061188114</td>\n",
       "      <td>703315579</td>\n",
       "      <td>187754734</td>\n",
       "      <td>3622745422</td>\n",
       "      <td>...</td>\n",
       "      <td>296723889</td>\n",
       "      <td>1326565262</td>\n",
       "      <td>4760220857</td>\n",
       "      <td>510599570</td>\n",
       "      <td>253879970</td>\n",
       "      <td>1564714192</td>\n",
       "      <td>1253035444</td>\n",
       "      <td>520774265</td>\n",
       "      <td>1205201789</td>\n",
       "      <td>152676575</td>\n",
       "    </tr>\n",
       "    <tr>\n",
       "      <th>2002</th>\n",
       "      <td>8.240055e+10</td>\n",
       "      <td>1387975241</td>\n",
       "      <td>260180178</td>\n",
       "      <td>2520137525</td>\n",
       "      <td>733650835</td>\n",
       "      <td>9092121808</td>\n",
       "      <td>1238777106</td>\n",
       "      <td>825970250</td>\n",
       "      <td>216149404</td>\n",
       "      <td>4124966740</td>\n",
       "      <td>...</td>\n",
       "      <td>342344861</td>\n",
       "      <td>1514613174</td>\n",
       "      <td>5638643478</td>\n",
       "      <td>594855398</td>\n",
       "      <td>276976033</td>\n",
       "      <td>1772711389</td>\n",
       "      <td>1501299011</td>\n",
       "      <td>593509323</td>\n",
       "      <td>1357291868</td>\n",
       "      <td>182179355</td>\n",
       "    </tr>\n",
       "    <tr>\n",
       "      <th>2003</th>\n",
       "      <td>9.260448e+10</td>\n",
       "      <td>1584581070</td>\n",
       "      <td>280079667</td>\n",
       "      <td>3103945066</td>\n",
       "      <td>829601733</td>\n",
       "      <td>9928105199</td>\n",
       "      <td>1416997560</td>\n",
       "      <td>908683240</td>\n",
       "      <td>226632147</td>\n",
       "      <td>4631097940</td>\n",
       "      <td>...</td>\n",
       "      <td>373160375</td>\n",
       "      <td>1705965593</td>\n",
       "      <td>6541541039</td>\n",
       "      <td>674510076</td>\n",
       "      <td>304548823</td>\n",
       "      <td>1952288975</td>\n",
       "      <td>1663743593</td>\n",
       "      <td>677382817</td>\n",
       "      <td>1511374487</td>\n",
       "      <td>211058170</td>\n",
       "    </tr>\n",
       "    <tr>\n",
       "      <th>2004</th>\n",
       "      <td>1.014980e+11</td>\n",
       "      <td>1672101861</td>\n",
       "      <td>299103691</td>\n",
       "      <td>4312713049</td>\n",
       "      <td>888970231</td>\n",
       "      <td>10825485264</td>\n",
       "      <td>1665593582</td>\n",
       "      <td>965299387</td>\n",
       "      <td>286492122</td>\n",
       "      <td>5181788479</td>\n",
       "      <td>...</td>\n",
       "      <td>375611344</td>\n",
       "      <td>1895812898</td>\n",
       "      <td>7207764023</td>\n",
       "      <td>762450195</td>\n",
       "      <td>318894589</td>\n",
       "      <td>2122509463</td>\n",
       "      <td>1780464671</td>\n",
       "      <td>714586624</td>\n",
       "      <td>1613726426</td>\n",
       "      <td>258093648</td>\n",
       "    </tr>\n",
       "  </tbody>\n",
       "</table>\n",
       "<p>5 rows × 51 columns</p>\n",
       "</div>"
      ],
      "text/plain": [
       "          Education     Alabama     Alaska     Arizona   Arkansas  \\\n",
       "State                                                               \n",
       "2000   3.107050e+10   557767814  177881580   667976456  328403457   \n",
       "2001   7.125435e+10  1205096441  227988480  1990909460  618218324   \n",
       "2002   8.240055e+10  1387975241  260180178  2520137525  733650835   \n",
       "2003   9.260448e+10  1584581070  280079667  3103945066  829601733   \n",
       "2004   1.014980e+11  1672101861  299103691  4312713049  888970231   \n",
       "\n",
       "        California    Colorado Connecticut   Delaware     Florida    ...      \\\n",
       "State                                                                ...       \n",
       "2000    3792096590   370882855   288895735   85735787  1590311741    ...       \n",
       "2001    7895473833  1061188114   703315579  187754734  3622745422    ...       \n",
       "2002    9092121808  1238777106   825970250  216149404  4124966740    ...       \n",
       "2003    9928105199  1416997560   908683240  226632147  4631097940    ...       \n",
       "2004   10825485264  1665593582   965299387  286492122  5181788479    ...       \n",
       "\n",
       "      South Dakota   Tennessee       Texas       Utah    Vermont    Virginia  \\\n",
       "State                                                                          \n",
       "2000     133366735   583465744  2484215057  255609306   91491401   641092965   \n",
       "2001     296723889  1326565262  4760220857  510599570  253879970  1564714192   \n",
       "2002     342344861  1514613174  5638643478  594855398  276976033  1772711389   \n",
       "2003     373160375  1705965593  6541541039  674510076  304548823  1952288975   \n",
       "2004     375611344  1895812898  7207764023  762450195  318894589  2122509463   \n",
       "\n",
       "       Washington West Virginia   Wisconsin    Wyoming  \n",
       "State                                                   \n",
       "2000    569577741     257981746   530100703   86526320  \n",
       "2001   1253035444     520774265  1205201789  152676575  \n",
       "2002   1501299011     593509323  1357291868  182179355  \n",
       "2003   1663743593     677382817  1511374487  211058170  \n",
       "2004   1780464671     714586624  1613726426  258093648  \n",
       "\n",
       "[5 rows x 51 columns]"
      ]
     },
     "execution_count": 4,
     "metadata": {},
     "output_type": "execute_result"
    }
   ],
   "source": [
    "# load education data\n",
    "education_path = os.path.join('data', 'education', 'actualls_all.csv')\n",
    "education_df = pd.read_csv(education_path)\n",
    "education_df = education_df.drop(education_df.index[[0,1,2]])\n",
    "education_df = education_df.reset_index(drop=True)\n",
    "education_df.rename(columns={'Total':'Education'}, inplace=True)\n",
    "education_df['State'] = education_df['State'].apply(pd.to_numeric)\n",
    "education_df.set_index('State', inplace=True)\n",
    "education_df.head()"
   ]
  },
  {
   "cell_type": "code",
   "execution_count": 5,
   "metadata": {},
   "outputs": [
    {
     "data": {
      "text/html": [
       "<div>\n",
       "<style>\n",
       "    .dataframe thead tr:only-child th {\n",
       "        text-align: right;\n",
       "    }\n",
       "\n",
       "    .dataframe thead th {\n",
       "        text-align: left;\n",
       "    }\n",
       "\n",
       "    .dataframe tbody tr th {\n",
       "        vertical-align: top;\n",
       "    }\n",
       "</style>\n",
       "<table border=\"1\" class=\"dataframe\">\n",
       "  <thead>\n",
       "    <tr style=\"text-align: right;\">\n",
       "      <th></th>\n",
       "      <th>Education</th>\n",
       "      <th>Corrections</th>\n",
       "      <th>Crime</th>\n",
       "    </tr>\n",
       "    <tr>\n",
       "      <th>State</th>\n",
       "      <th></th>\n",
       "      <th></th>\n",
       "      <th></th>\n",
       "    </tr>\n",
       "  </thead>\n",
       "  <tbody>\n",
       "    <tr>\n",
       "      <th>2000</th>\n",
       "      <td>3.107050e+10</td>\n",
       "      <td>35129203</td>\n",
       "      <td>11564125</td>\n",
       "    </tr>\n",
       "    <tr>\n",
       "      <th>2001</th>\n",
       "      <td>7.125435e+10</td>\n",
       "      <td>38164541</td>\n",
       "      <td>11804921</td>\n",
       "    </tr>\n",
       "    <tr>\n",
       "      <th>2002</th>\n",
       "      <td>8.240055e+10</td>\n",
       "      <td>38887742</td>\n",
       "      <td>11831419</td>\n",
       "    </tr>\n",
       "    <tr>\n",
       "      <th>2003</th>\n",
       "      <td>9.260448e+10</td>\n",
       "      <td>39187839</td>\n",
       "      <td>11775044</td>\n",
       "    </tr>\n",
       "    <tr>\n",
       "      <th>2004</th>\n",
       "      <td>1.014980e+11</td>\n",
       "      <td>39313812</td>\n",
       "      <td>11660778</td>\n",
       "    </tr>\n",
       "    <tr>\n",
       "      <th>2005</th>\n",
       "      <td>1.055320e+11</td>\n",
       "      <td>40689366</td>\n",
       "      <td>11522689</td>\n",
       "    </tr>\n",
       "    <tr>\n",
       "      <th>2006</th>\n",
       "      <td>1.074350e+11</td>\n",
       "      <td>42720103</td>\n",
       "      <td>11365478</td>\n",
       "    </tr>\n",
       "    <tr>\n",
       "      <th>2007</th>\n",
       "      <td>1.151780e+11</td>\n",
       "      <td>46497875</td>\n",
       "      <td>11214590</td>\n",
       "    </tr>\n",
       "    <tr>\n",
       "      <th>2008</th>\n",
       "      <td>1.252050e+11</td>\n",
       "      <td>49897531</td>\n",
       "      <td>11111207</td>\n",
       "    </tr>\n",
       "    <tr>\n",
       "      <th>2009</th>\n",
       "      <td>1.531350e+11</td>\n",
       "      <td>50382439</td>\n",
       "      <td>10602842</td>\n",
       "    </tr>\n",
       "    <tr>\n",
       "      <th>2010</th>\n",
       "      <td>1.860040e+11</td>\n",
       "      <td>48549551</td>\n",
       "      <td>10292375</td>\n",
       "    </tr>\n",
       "  </tbody>\n",
       "</table>\n",
       "</div>"
      ],
      "text/plain": [
       "          Education  Corrections     Crime\n",
       "State                                     \n",
       "2000   3.107050e+10     35129203  11564125\n",
       "2001   7.125435e+10     38164541  11804921\n",
       "2002   8.240055e+10     38887742  11831419\n",
       "2003   9.260448e+10     39187839  11775044\n",
       "2004   1.014980e+11     39313812  11660778\n",
       "2005   1.055320e+11     40689366  11522689\n",
       "2006   1.074350e+11     42720103  11365478\n",
       "2007   1.151780e+11     46497875  11214590\n",
       "2008   1.252050e+11     49897531  11111207\n",
       "2009   1.531350e+11     50382439  10602842\n",
       "2010   1.860040e+11     48549551  10292375"
      ]
     },
     "execution_count": 5,
     "metadata": {},
     "output_type": "execute_result"
    }
   ],
   "source": [
    "dfs = [education_df, corrections_df, crime_df]\n",
    "df = reduce(lambda left,right: pd.merge(left,right,left_index=True,right_index=True), dfs)\n",
    "df = df[['Education', 'Corrections','Crime']]\n",
    "df"
   ]
  },
  {
   "cell_type": "code",
   "execution_count": 6,
   "metadata": {},
   "outputs": [
    {
     "name": "stdout",
     "output_type": "stream",
     "text": [
      "(11, 2) (11, 1)\n"
     ]
    }
   ],
   "source": [
    "# Assign the data to X and y\n",
    "X = df[['Education','Corrections']]\n",
    "y = df['Crime'].values.reshape(11,1)\n",
    "\n",
    "print(X.shape, y.shape)"
   ]
  },
  {
   "cell_type": "code",
   "execution_count": 7,
   "metadata": {},
   "outputs": [
    {
     "data": {
      "text/plain": [
       "<matplotlib.collections.PathCollection at 0x1db0ab845f8>"
      ]
     },
     "execution_count": 7,
     "metadata": {},
     "output_type": "execute_result"
    },
    {
     "data": {
      "image/png": "[encoded data removed]",
      "text/plain": [
       "<matplotlib.figure.Figure at 0x1db0a892c18>"
      ]
     },
     "metadata": {},
     "output_type": "display_data"
    }
   ],
   "source": [
    "# Plot corrections and crime rate and check for linear data\n",
    "plt.scatter(X['Corrections'], y, c=\"blue\", label=\"Corrections\")\n",
    "plt.scatter(X['Education'], y, c=\"orange\", label=\"Education\")"
   ]
  },
  {
   "cell_type": "code",
   "execution_count": 8,
   "metadata": {},
   "outputs": [
    {
     "data": {
      "text/plain": [
       "<matplotlib.collections.PathCollection at 0x1db0af8e0b8>"
      ]
     },
     "execution_count": 8,
     "metadata": {},
     "output_type": "execute_result"
    },
    {
     "data": {
      "image/png": "[encoded data removed]",
      "text/plain": [
       "<matplotlib.figure.Figure at 0x1db0a892dd8>"
      ]
     },
     "metadata": {},
     "output_type": "display_data"
    }
   ],
   "source": [
    "plt.scatter(X['Corrections'], y, c=\"blue\", label=\"Corrections\")"
   ]
  },
  {
   "cell_type": "code",
   "execution_count": 9,
   "metadata": {},
   "outputs": [
    {
     "data": {
      "text/plain": [
       "<matplotlib.collections.PathCollection at 0x1db0b024c50>"
      ]
     },
     "execution_count": 9,
     "metadata": {},
     "output_type": "execute_result"
    },
    {
     "data": {
      "image/png": "[encoded data removed]",
      "text/plain": [
       "<matplotlib.figure.Figure at 0x1db0abbdc18>"
      ]
     },
     "metadata": {},
     "output_type": "display_data"
    }
   ],
   "source": [
    "plt.scatter(X['Education'], y, c=\"orange\", label=\"Education\")"
   ]
  },
  {
   "cell_type": "markdown",
   "metadata": {},
   "source": [
    "# Multiple Linear Regression"
   ]
  },
  {
   "cell_type": "code",
   "execution_count": 10,
   "metadata": {
    "collapsed": true
   },
   "outputs": [],
   "source": [
    "# Create the model using LinearRegression\n",
    "from sklearn.linear_model import LinearRegression\n",
    "model = LinearRegression()"
   ]
  },
  {
   "cell_type": "code",
   "execution_count": 11,
   "metadata": {},
   "outputs": [
    {
     "name": "stdout",
     "output_type": "stream",
     "text": [
      "LinearRegression(copy_X=True, fit_intercept=True, n_jobs=1, normalize=False)\n"
     ]
    }
   ],
   "source": [
    "# Create the model using LinearRegression\n",
    "model.fit(X, y)\n",
    "print(model)"
   ]
  },
  {
   "cell_type": "code",
   "execution_count": 12,
   "metadata": {},
   "outputs": [
    {
     "name": "stdout",
     "output_type": "stream",
     "text": [
      "Weight coefficients:  [[ -6.03656992e-06  -4.00993939e-02]]\n",
      "y-axis intercept:  [ 13694514.70586899]\n"
     ]
    }
   ],
   "source": [
    "# Get linear model\n",
    "coefficient = model.coef_\n",
    "y_intercept = model.intercept_\n",
    "print('Weight coefficients: ', coefficient)\n",
    "print('y-axis intercept: ', y_intercept) "
   ]
  },
  {
   "cell_type": "markdown",
   "metadata": {
    "collapsed": true
   },
   "source": [
    "Linear model: y = 13694514.7059 - 6.03656992e-06x1 - 4.00993939e-02x2"
   ]
  },
  {
   "cell_type": "code",
   "execution_count": 13,
   "metadata": {},
   "outputs": [
    {
     "name": "stdout",
     "output_type": "stream",
     "text": [
      "True output: [11564125]\n",
      "Predicted output: [ 12098295.72336634]\n",
      "Prediction Error: [ 534170.72336634]\n"
     ]
    }
   ],
   "source": [
    "# Make predictions\n",
    "predictions = model.predict(X)\n",
    "print(f\"True output: {y[0]}\")\n",
    "print(f\"Predicted output: {predictions[0]}\")\n",
    "print(f\"Prediction Error: {predictions[0]-y[0]}\")"
   ]
  },
  {
   "cell_type": "code",
   "execution_count": 14,
   "metadata": {},
   "outputs": [
    {
     "name": "stdout",
     "output_type": "stream",
     "text": [
      "R2 Score: 0.7736681110966148\n"
     ]
    }
   ],
   "source": [
    "score = model.score(X, y)\n",
    "print(f\"R2 Score: {score}\")"
   ]
  },
  {
   "cell_type": "code",
   "execution_count": 15,
   "metadata": {},
   "outputs": [
    {
     "data": {
      "text/plain": [
       "<matplotlib.text.Text at 0x1db0cd5ca58>"
      ]
     },
     "execution_count": 15,
     "metadata": {},
     "output_type": "execute_result"
    },
    {
     "data": {
      "image/png": "[encoded data removed]",
      "text/plain": [
       "<matplotlib.figure.Figure at 0x1db0ccfcfd0>"
      ]
     },
     "metadata": {},
     "output_type": "display_data"
    }
   ],
   "source": [
    "predictions = model.predict(X)\n",
    "# Plot Residuals\n",
    "plt.scatter(predictions, predictions - y)\n",
    "plt.hlines(y=0, xmin=predictions.min(), xmax=predictions.max())\n",
    "plt.title(\"Residual Plot\")"
   ]
  },
  {
   "cell_type": "markdown",
   "metadata": {},
   "source": [
    "# Validation"
   ]
  },
  {
   "cell_type": "code",
   "execution_count": 16,
   "metadata": {
    "collapsed": true
   },
   "outputs": [],
   "source": [
    "# Use train_test_split to create training and testing data\n",
    "from sklearn.model_selection import train_test_split\n",
    "X_train, X_test, y_train, y_test = train_test_split(X, y, random_state=42)"
   ]
  },
  {
   "cell_type": "code",
   "execution_count": 17,
   "metadata": {
    "collapsed": true
   },
   "outputs": [],
   "source": [
    "# Create the model using LinearRegression\n",
    "from sklearn.linear_model import LinearRegression\n",
    "model = LinearRegression()"
   ]
  },
  {
   "cell_type": "code",
   "execution_count": 18,
   "metadata": {},
   "outputs": [
    {
     "name": "stdout",
     "output_type": "stream",
     "text": [
      "Training Score: 0.9722864719457674\n",
      "Testing Score: -0.5330949181589535\n"
     ]
    }
   ],
   "source": [
    "# Fit the model to the training data and calculate the overall scores for the training and testing data\n",
    "model.fit(X_train, y_train)\n",
    "training_score = model.score(X_train, y_train)\n",
    "testing_score = model.score(X_test, y_test)\n",
    "\n",
    "print(f\"Training Score: {training_score}\")\n",
    "print(f\"Testing Score: {testing_score}\")"
   ]
  },
  {
   "cell_type": "code",
   "execution_count": 19,
   "metadata": {},
   "outputs": [
    {
     "data": {
      "text/plain": [
       "<matplotlib.text.Text at 0x1db0ce12278>"
      ]
     },
     "execution_count": 19,
     "metadata": {},
     "output_type": "execute_result"
    },
    {
     "data": {
      "image/png": "[encoded data removed]",
      "text/plain": [
       "<matplotlib.figure.Figure at 0x1db0afc9a20>"
      ]
     },
     "metadata": {},
     "output_type": "display_data"
    }
   ],
   "source": [
    "# Plot the Residuals for the Training and Testing data\n",
    "\n",
    "plt.scatter(model.predict(X_train), model.predict(X_train) - y_train, c=\"blue\", label=\"Training Data\")\n",
    "plt.scatter(model.predict(X_test), model.predict(X_test) - y_test, c=\"orange\", label=\"Testing Data\")\n",
    "plt.legend()\n",
    "plt.hlines(y=0, xmin=y.min(), xmax=y.max())\n",
    "plt.title(\"Residual Plot\")"
   ]
  },
  {
   "cell_type": "code",
   "execution_count": 20,
   "metadata": {},
   "outputs": [
    {
     "data": {
      "text/plain": [
       "(8, 1)"
      ]
     },
     "execution_count": 20,
     "metadata": {},
     "output_type": "execute_result"
    }
   ],
   "source": [
    "y_train.shape"
   ]
  },
  {
   "cell_type": "code",
   "execution_count": 21,
   "metadata": {},
   "outputs": [
    {
     "data": {
      "text/plain": [
       "<matplotlib.collections.PathCollection at 0x1db0ceed400>"
      ]
     },
     "execution_count": 21,
     "metadata": {},
     "output_type": "execute_result"
    },
    {
     "data": {
      "image/png": "[encoded data removed]",
      "text/plain": [
       "<matplotlib.figure.Figure at 0x1db0cd7dcc0>"
      ]
     },
     "metadata": {},
     "output_type": "display_data"
    }
   ],
   "source": [
    "plt.scatter(X_train['Education'], model.predict(X_train))\n",
    "plt.scatter(X_train['Education'], y_train)"
   ]
  },
  {
   "cell_type": "code",
   "execution_count": 22,
   "metadata": {},
   "outputs": [
    {
     "data": {
      "text/plain": [
       "<matplotlib.collections.PathCollection at 0x1db0cf8c5c0>"
      ]
     },
     "execution_count": 22,
     "metadata": {},
     "output_type": "execute_result"
    },
    {
     "data": {
      "image/png": "[encoded data removed]",
      "text/plain": [
       "<matplotlib.figure.Figure at 0x1db0cf17860>"
      ]
     },
     "metadata": {},
     "output_type": "display_data"
    }
   ],
   "source": [
    "plt.scatter(X_train['Corrections'], model.predict(X_train))\n",
    "plt.scatter(X_train['Corrections'], y_train)"
   ]
  },
  {
   "cell_type": "code",
   "execution_count": 23,
   "metadata": {},
   "outputs": [
    {
     "data": {
      "image/png": "[encoded data removed]",
      "text/plain": [
       "<matplotlib.figure.Figure at 0x1db0ccfc908>"
      ]
     },
     "metadata": {},
     "output_type": "display_data"
    }
   ],
   "source": [
    "# Make predictions using the X_test data\n",
    "# Plot y_test vs y_test\n",
    "# Scatter plot y_test vs predictions\n",
    "##### FROM 21-1-9??\n",
    "\n",
    "predictions = model.predict(X_test)\n",
    "plt.scatter(y_test, predictions, c='blue')\n",
    "plt.plot(y_test, y_test, c='red')\n",
    "plt.show()"
   ]
  },
  {
   "cell_type": "code",
   "execution_count": 24,
   "metadata": {},
   "outputs": [
    {
     "name": "stdout",
     "output_type": "stream",
     "text": [
      "MSE: 301832397535.8129, R2: -0.5330949181589535\n"
     ]
    }
   ],
   "source": [
    "# Used X_test_scaled, y_test_scaled, and model.predict(X_test_scaled) to calculate MSE and R2\n",
    "from sklearn.metrics import mean_squared_error\n",
    "\n",
    "MSE = mean_squared_error(y_test, predictions)\n",
    "r2 = model.score(X_test, y_test)\n",
    "\n",
    "print(f\"MSE: {MSE}, R2: {r2}\")"
   ]
  },
  {
   "cell_type": "code",
   "execution_count": 25,
   "metadata": {},
   "outputs": [
    {
     "name": "stdout",
     "output_type": "stream",
     "text": [
      "Weight coefficients:  [[ -1.21059839e-05  -2.19145345e-02]]\n",
      "y-axis intercept:  [ 13656210.27311025]\n"
     ]
    }
   ],
   "source": [
    "# Get linear model\n",
    "coefficient = model.coef_\n",
    "y_intercept = model.intercept_\n",
    "print('Weight coefficients: ', coefficient)\n",
    "print('y-axis intercept: ', y_intercept) "
   ]
  },
  {
   "cell_type": "markdown",
   "metadata": {},
   "source": [
    "Linear model: y =  13656210.2731 - 1.21059839e-05x1 - 2.19145345e-02x2"
   ]
  },
  {
   "cell_type": "code",
   "execution_count": null,
   "metadata": {
    "collapsed": true
   },
   "outputs": [],
   "source": []
  }
 ],
 "metadata": {
  "kernelspec": {
   "display_name": "Python [conda root]",
   "language": "python",
   "name": "conda-root-py"
  },
  "language_info": {
   "codemirror_mode": {
    "name": "ipython",
    "version": 3
   },
   "file_extension": ".py",
   "mimetype": "text/x-python",
   "name": "python",
   "nbconvert_exporter": "python",
   "pygments_lexer": "ipython3",
   "version": "3.6.2"
  }
 },
 "nbformat": 4,
 "nbformat_minor": 2
}
