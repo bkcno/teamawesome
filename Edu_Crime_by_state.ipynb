{
 "cells": [
  {
   "cell_type": "code",
   "execution_count": 155,
   "metadata": {
    "collapsed": true
   },
   "outputs": [],
   "source": [
    "# dependencies\n",
    "%matplotlib inline\n",
    "import matplotlib.pyplot as plt\n",
    "import numpy as np\n",
    "import pandas as pd\n",
    "import os"
   ]
  },
  {
   "cell_type": "code",
   "execution_count": 184,
   "metadata": {},
   "outputs": [
    {
     "data": {
      "text/html": [
       "<div>\n",
       "<style>\n",
       "    .dataframe thead tr:only-child th {\n",
       "        text-align: right;\n",
       "    }\n",
       "\n",
       "    .dataframe thead th {\n",
       "        text-align: left;\n",
       "    }\n",
       "\n",
       "    .dataframe tbody tr th {\n",
       "        vertical-align: top;\n",
       "    }\n",
       "</style>\n",
       "<table border=\"1\" class=\"dataframe\">\n",
       "  <thead>\n",
       "    <tr style=\"text-align: right;\">\n",
       "      <th></th>\n",
       "      <th>State</th>\n",
       "      <th>ALABAMA</th>\n",
       "      <th>ALASKA</th>\n",
       "      <th>ARIZONA</th>\n",
       "      <th>ARKANSAS</th>\n",
       "      <th>CALIFORNIA</th>\n",
       "      <th>COLORADO</th>\n",
       "      <th>CONNECTICUT</th>\n",
       "      <th>DELAWARE</th>\n",
       "      <th>FLORIDA</th>\n",
       "      <th>...</th>\n",
       "      <th>SOUTH DAKOTA</th>\n",
       "      <th>TENNESSEE</th>\n",
       "      <th>TEXAS</th>\n",
       "      <th>UTAH</th>\n",
       "      <th>VERMONT</th>\n",
       "      <th>VIRGINIA</th>\n",
       "      <th>WASHINGTON</th>\n",
       "      <th>WEST VIRGINIA</th>\n",
       "      <th>WISCONSIN</th>\n",
       "      <th>WYOMING</th>\n",
       "    </tr>\n",
       "  </thead>\n",
       "  <tbody>\n",
       "    <tr>\n",
       "      <th>0</th>\n",
       "      <td>2000</td>\n",
       "      <td>202159</td>\n",
       "      <td>26641</td>\n",
       "      <td>299092</td>\n",
       "      <td>110019</td>\n",
       "      <td>1266714</td>\n",
       "      <td>171304</td>\n",
       "      <td>110091</td>\n",
       "      <td>35090</td>\n",
       "      <td>910154</td>\n",
       "      <td>...</td>\n",
       "      <td>17511</td>\n",
       "      <td>278218</td>\n",
       "      <td>1033311</td>\n",
       "      <td>99958</td>\n",
       "      <td>18185</td>\n",
       "      <td>214348</td>\n",
       "      <td>300932</td>\n",
       "      <td>47067</td>\n",
       "      <td>172124</td>\n",
       "      <td>16285</td>\n",
       "    </tr>\n",
       "    <tr>\n",
       "      <th>1</th>\n",
       "      <td>2001</td>\n",
       "      <td>192835</td>\n",
       "      <td>26895</td>\n",
       "      <td>322549</td>\n",
       "      <td>111296</td>\n",
       "      <td>1346557</td>\n",
       "      <td>186379</td>\n",
       "      <td>106791</td>\n",
       "      <td>32267</td>\n",
       "      <td>913230</td>\n",
       "      <td>...</td>\n",
       "      <td>17644</td>\n",
       "      <td>295770</td>\n",
       "      <td>1098809</td>\n",
       "      <td>96307</td>\n",
       "      <td>16978</td>\n",
       "      <td>228445</td>\n",
       "      <td>308492</td>\n",
       "      <td>46120</td>\n",
       "      <td>179410</td>\n",
       "      <td>17392</td>\n",
       "    </tr>\n",
       "    <tr>\n",
       "      <th>2</th>\n",
       "      <td>2002</td>\n",
       "      <td>200331</td>\n",
       "      <td>27745</td>\n",
       "      <td>348467</td>\n",
       "      <td>112672</td>\n",
       "      <td>1384872</td>\n",
       "      <td>195936</td>\n",
       "      <td>103719</td>\n",
       "      <td>31803</td>\n",
       "      <td>905957</td>\n",
       "      <td>...</td>\n",
       "      <td>17342</td>\n",
       "      <td>290961</td>\n",
       "      <td>1130292</td>\n",
       "      <td>103129</td>\n",
       "      <td>15600</td>\n",
       "      <td>229039</td>\n",
       "      <td>309931</td>\n",
       "      <td>45320</td>\n",
       "      <td>176987</td>\n",
       "      <td>17858</td>\n",
       "    </tr>\n",
       "    <tr>\n",
       "      <th>3</th>\n",
       "      <td>2003</td>\n",
       "      <td>201572</td>\n",
       "      <td>28130</td>\n",
       "      <td>342973</td>\n",
       "      <td>111141</td>\n",
       "      <td>1420637</td>\n",
       "      <td>195046</td>\n",
       "      <td>101537</td>\n",
       "      <td>33046</td>\n",
       "      <td>881976</td>\n",
       "      <td>...</td>\n",
       "      <td>16624</td>\n",
       "      <td>296010</td>\n",
       "      <td>1138623</td>\n",
       "      <td>105207</td>\n",
       "      <td>14303</td>\n",
       "      <td>220106</td>\n",
       "      <td>312820</td>\n",
       "      <td>47375</td>\n",
       "      <td>169842</td>\n",
       "      <td>17962</td>\n",
       "    </tr>\n",
       "    <tr>\n",
       "      <th>4</th>\n",
       "      <td>2004</td>\n",
       "      <td>201664</td>\n",
       "      <td>26331</td>\n",
       "      <td>335699</td>\n",
       "      <td>124201</td>\n",
       "      <td>1425264</td>\n",
       "      <td>197527</td>\n",
       "      <td>102078</td>\n",
       "      <td>30992</td>\n",
       "      <td>850895</td>\n",
       "      <td>...</td>\n",
       "      <td>16227</td>\n",
       "      <td>295147</td>\n",
       "      <td>1132256</td>\n",
       "      <td>103246</td>\n",
       "      <td>15039</td>\n",
       "      <td>220227</td>\n",
       "      <td>322167</td>\n",
       "      <td>50421</td>\n",
       "      <td>158258</td>\n",
       "      <td>18052</td>\n",
       "    </tr>\n",
       "  </tbody>\n",
       "</table>\n",
       "<p>5 rows × 51 columns</p>\n",
       "</div>"
      ],
      "text/plain": [
       "   State  ALABAMA  ALASKA  ARIZONA  ARKANSAS  CALIFORNIA  COLORADO  \\\n",
       "0   2000   202159   26641   299092    110019     1266714    171304   \n",
       "1   2001   192835   26895   322549    111296     1346557    186379   \n",
       "2   2002   200331   27745   348467    112672     1384872    195936   \n",
       "3   2003   201572   28130   342973    111141     1420637    195046   \n",
       "4   2004   201664   26331   335699    124201     1425264    197527   \n",
       "\n",
       "   CONNECTICUT  DELAWARE  FLORIDA   ...     SOUTH DAKOTA  TENNESSEE    TEXAS  \\\n",
       "0       110091     35090   910154   ...            17511     278218  1033311   \n",
       "1       106791     32267   913230   ...            17644     295770  1098809   \n",
       "2       103719     31803   905957   ...            17342     290961  1130292   \n",
       "3       101537     33046   881976   ...            16624     296010  1138623   \n",
       "4       102078     30992   850895   ...            16227     295147  1132256   \n",
       "\n",
       "     UTAH  VERMONT  VIRGINIA  WASHINGTON  WEST VIRGINIA  WISCONSIN  WYOMING  \n",
       "0   99958    18185    214348      300932          47067     172124    16285  \n",
       "1   96307    16978    228445      308492          46120     179410    17392  \n",
       "2  103129    15600    229039      309931          45320     176987    17858  \n",
       "3  105207    14303    220106      312820          47375     169842    17962  \n",
       "4  103246    15039    220227      322167          50421     158258    18052  \n",
       "\n",
       "[5 rows x 51 columns]"
      ]
     },
     "execution_count": 184,
     "metadata": {},
     "output_type": "execute_result"
    }
   ],
   "source": [
    "# load crime data\n",
    "# crime_path = os.path.join('data', 'crime', 'crime_rate_per_100_all.csv')\n",
    "crime_path = os.path.join('data', 'crime', 'crime_all.csv')\n",
    "crime_df = pd.read_csv(crime_path)\n",
    "crime_df = crime_df.drop(crime_df.index[11])\n",
    "crime_df.head(5)"
   ]
  },
  {
   "cell_type": "code",
   "execution_count": 185,
   "metadata": {},
   "outputs": [
    {
     "data": {
      "text/html": [
       "<div>\n",
       "<style>\n",
       "    .dataframe thead tr:only-child th {\n",
       "        text-align: right;\n",
       "    }\n",
       "\n",
       "    .dataframe thead th {\n",
       "        text-align: left;\n",
       "    }\n",
       "\n",
       "    .dataframe tbody tr th {\n",
       "        vertical-align: top;\n",
       "    }\n",
       "</style>\n",
       "<table border=\"1\" class=\"dataframe\">\n",
       "  <thead>\n",
       "    <tr style=\"text-align: right;\">\n",
       "      <th></th>\n",
       "      <th>State</th>\n",
       "      <th>Alabama</th>\n",
       "      <th>Alaska</th>\n",
       "      <th>Arizona</th>\n",
       "      <th>Arkansas</th>\n",
       "      <th>California</th>\n",
       "      <th>Colorado</th>\n",
       "      <th>Connecticut</th>\n",
       "      <th>Delaware</th>\n",
       "      <th>Florida</th>\n",
       "      <th>...</th>\n",
       "      <th>South Dakota</th>\n",
       "      <th>Tennessee</th>\n",
       "      <th>Texas</th>\n",
       "      <th>Utah</th>\n",
       "      <th>Vermont</th>\n",
       "      <th>Virginia</th>\n",
       "      <th>Washington</th>\n",
       "      <th>West Virginia</th>\n",
       "      <th>Wisconsin</th>\n",
       "      <th>Wyoming</th>\n",
       "    </tr>\n",
       "  </thead>\n",
       "  <tbody>\n",
       "    <tr>\n",
       "      <th>0</th>\n",
       "      <td>2000</td>\n",
       "      <td>557767814.00</td>\n",
       "      <td>177881580.00</td>\n",
       "      <td>667976456.00</td>\n",
       "      <td>328403457.00</td>\n",
       "      <td>3792096590.00</td>\n",
       "      <td>370882855.00</td>\n",
       "      <td>288895735.00</td>\n",
       "      <td>85735787.00</td>\n",
       "      <td>1590311741.00</td>\n",
       "      <td>...</td>\n",
       "      <td>133366735.00</td>\n",
       "      <td>583465744.00</td>\n",
       "      <td>2484215057.00</td>\n",
       "      <td>255609306.00</td>\n",
       "      <td>91491401.00</td>\n",
       "      <td>641092965.00</td>\n",
       "      <td>569577741.00</td>\n",
       "      <td>257981746.00</td>\n",
       "      <td>530100703.00</td>\n",
       "      <td>86526320.00</td>\n",
       "    </tr>\n",
       "    <tr>\n",
       "      <th>1</th>\n",
       "      <td>2001</td>\n",
       "      <td>1205096441.00</td>\n",
       "      <td>227988480.00</td>\n",
       "      <td>1990909460.00</td>\n",
       "      <td>618218324.00</td>\n",
       "      <td>7895473833.00</td>\n",
       "      <td>1061188114.00</td>\n",
       "      <td>703315579.00</td>\n",
       "      <td>187754734.00</td>\n",
       "      <td>3622745422.00</td>\n",
       "      <td>...</td>\n",
       "      <td>296723889.00</td>\n",
       "      <td>1326565262.00</td>\n",
       "      <td>4760220857.00</td>\n",
       "      <td>510599570.00</td>\n",
       "      <td>253879970.00</td>\n",
       "      <td>1564714192.00</td>\n",
       "      <td>1253035444.00</td>\n",
       "      <td>520774265.00</td>\n",
       "      <td>1205201789.00</td>\n",
       "      <td>152676575.00</td>\n",
       "    </tr>\n",
       "    <tr>\n",
       "      <th>2</th>\n",
       "      <td>2002</td>\n",
       "      <td>1387975241.00</td>\n",
       "      <td>260180178.00</td>\n",
       "      <td>2520137525.00</td>\n",
       "      <td>733650835.00</td>\n",
       "      <td>9092121808.00</td>\n",
       "      <td>1238777106.00</td>\n",
       "      <td>825970250.00</td>\n",
       "      <td>216149404.00</td>\n",
       "      <td>4124966740.00</td>\n",
       "      <td>...</td>\n",
       "      <td>342344861.00</td>\n",
       "      <td>1514613174.00</td>\n",
       "      <td>5638643478.00</td>\n",
       "      <td>594855398.00</td>\n",
       "      <td>276976033.00</td>\n",
       "      <td>1772711389.00</td>\n",
       "      <td>1501299011.00</td>\n",
       "      <td>593509323.00</td>\n",
       "      <td>1357291868.00</td>\n",
       "      <td>182179355.00</td>\n",
       "    </tr>\n",
       "    <tr>\n",
       "      <th>3</th>\n",
       "      <td>2003</td>\n",
       "      <td>1584581070.00</td>\n",
       "      <td>280079667.00</td>\n",
       "      <td>3103945066.00</td>\n",
       "      <td>829601733.00</td>\n",
       "      <td>9928105199.00</td>\n",
       "      <td>1416997560.00</td>\n",
       "      <td>908683240.00</td>\n",
       "      <td>226632147.00</td>\n",
       "      <td>4631097940.00</td>\n",
       "      <td>...</td>\n",
       "      <td>373160375.00</td>\n",
       "      <td>1705965593.00</td>\n",
       "      <td>6541541039.00</td>\n",
       "      <td>674510076.00</td>\n",
       "      <td>304548823.00</td>\n",
       "      <td>1952288975.00</td>\n",
       "      <td>1663743593.00</td>\n",
       "      <td>677382817.00</td>\n",
       "      <td>1511374487.00</td>\n",
       "      <td>211058170.00</td>\n",
       "    </tr>\n",
       "    <tr>\n",
       "      <th>4</th>\n",
       "      <td>2004</td>\n",
       "      <td>1672101861.00</td>\n",
       "      <td>299103691.00</td>\n",
       "      <td>4312713049.00</td>\n",
       "      <td>888970231.00</td>\n",
       "      <td>10825485264.00</td>\n",
       "      <td>1665593582.00</td>\n",
       "      <td>965299387.00</td>\n",
       "      <td>286492122.00</td>\n",
       "      <td>5181788479.00</td>\n",
       "      <td>...</td>\n",
       "      <td>375611344.00</td>\n",
       "      <td>1895812898.00</td>\n",
       "      <td>7207764023.00</td>\n",
       "      <td>762450195.00</td>\n",
       "      <td>318894589.00</td>\n",
       "      <td>2122509463.00</td>\n",
       "      <td>1780464671.00</td>\n",
       "      <td>714586624.00</td>\n",
       "      <td>1613726426.00</td>\n",
       "      <td>258093648.00</td>\n",
       "    </tr>\n",
       "  </tbody>\n",
       "</table>\n",
       "<p>5 rows × 51 columns</p>\n",
       "</div>"
      ],
      "text/plain": [
       "  State        Alabama        Alaska        Arizona      Arkansas  \\\n",
       "0  2000   557767814.00  177881580.00   667976456.00  328403457.00   \n",
       "1  2001  1205096441.00  227988480.00  1990909460.00  618218324.00   \n",
       "2  2002  1387975241.00  260180178.00  2520137525.00  733650835.00   \n",
       "3  2003  1584581070.00  280079667.00  3103945066.00  829601733.00   \n",
       "4  2004  1672101861.00  299103691.00  4312713049.00  888970231.00   \n",
       "\n",
       "       California       Colorado   Connecticut      Delaware        Florida  \\\n",
       "0   3792096590.00   370882855.00  288895735.00   85735787.00  1590311741.00   \n",
       "1   7895473833.00  1061188114.00  703315579.00  187754734.00  3622745422.00   \n",
       "2   9092121808.00  1238777106.00  825970250.00  216149404.00  4124966740.00   \n",
       "3   9928105199.00  1416997560.00  908683240.00  226632147.00  4631097940.00   \n",
       "4  10825485264.00  1665593582.00  965299387.00  286492122.00  5181788479.00   \n",
       "\n",
       "       ...       South Dakota      Tennessee          Texas          Utah  \\\n",
       "0      ...       133366735.00   583465744.00  2484215057.00  255609306.00   \n",
       "1      ...       296723889.00  1326565262.00  4760220857.00  510599570.00   \n",
       "2      ...       342344861.00  1514613174.00  5638643478.00  594855398.00   \n",
       "3      ...       373160375.00  1705965593.00  6541541039.00  674510076.00   \n",
       "4      ...       375611344.00  1895812898.00  7207764023.00  762450195.00   \n",
       "\n",
       "        Vermont       Virginia     Washington West Virginia      Wisconsin  \\\n",
       "0   91491401.00   641092965.00   569577741.00  257981746.00   530100703.00   \n",
       "1  253879970.00  1564714192.00  1253035444.00  520774265.00  1205201789.00   \n",
       "2  276976033.00  1772711389.00  1501299011.00  593509323.00  1357291868.00   \n",
       "3  304548823.00  1952288975.00  1663743593.00  677382817.00  1511374487.00   \n",
       "4  318894589.00  2122509463.00  1780464671.00  714586624.00  1613726426.00   \n",
       "\n",
       "        Wyoming  \n",
       "0   86526320.00  \n",
       "1  152676575.00  \n",
       "2  182179355.00  \n",
       "3  211058170.00  \n",
       "4  258093648.00  \n",
       "\n",
       "[5 rows x 51 columns]"
      ]
     },
     "execution_count": 185,
     "metadata": {},
     "output_type": "execute_result"
    }
   ],
   "source": [
    "# load education data\n",
    "education_path = os.path.join('data', 'education', 'actualls_all.csv')\n",
    "education_df = pd.read_csv(education_path)\n",
    "education_df = education_df.drop('Total', 1)\n",
    "education_df = education_df.drop(education_df.index[[0,1,2]])\n",
    "education_df = education_df.reset_index(drop=True)\n",
    "education_df.head()"
   ]
  },
  {
   "cell_type": "code",
   "execution_count": 186,
   "metadata": {},
   "outputs": [
    {
     "name": "stdout",
     "output_type": "stream",
     "text": [
      "(11, 1) (11, 1)\n"
     ]
    }
   ],
   "source": [
    "# Assign the data to X and y\n",
    "X = education_df['Alabama'].values.reshape(-1,1)\n",
    "y = crime_df['ALABAMA'].values.reshape(-1,1)\n",
    "\n",
    "print(X.shape, y.shape)"
   ]
  },
  {
   "cell_type": "code",
   "execution_count": 187,
   "metadata": {},
   "outputs": [
    {
     "data": {
      "text/plain": [
       "<matplotlib.collections.PathCollection at 0x235d217da58>"
      ]
     },
     "execution_count": 187,
     "metadata": {},
     "output_type": "execute_result"
    },
    {
     "data": {
      "image/png": "[encoded data removed]",
      "text/plain": [
       "<matplotlib.figure.Figure at 0x235d20e6898>"
      ]
     },
     "metadata": {},
     "output_type": "display_data"
    }
   ],
   "source": [
    "# Plot education and crime rate and check for linear data\n",
    "plt.scatter(X, y)"
   ]
  },
  {
   "cell_type": "markdown",
   "metadata": {},
   "source": [
    "# Linear Regression"
   ]
  },
  {
   "cell_type": "code",
   "execution_count": 188,
   "metadata": {
    "collapsed": true
   },
   "outputs": [],
   "source": [
    "# Create the model using LinearRegression\n",
    "from sklearn.linear_model import LinearRegression\n",
    "model = LinearRegression()"
   ]
  },
  {
   "cell_type": "code",
   "execution_count": 189,
   "metadata": {},
   "outputs": [
    {
     "name": "stdout",
     "output_type": "stream",
     "text": [
      "LinearRegression(copy_X=True, fit_intercept=True, n_jobs=1, normalize=False)\n"
     ]
    }
   ],
   "source": [
    "model.fit(X, y)\n",
    "print(model)"
   ]
  },
  {
   "cell_type": "code",
   "execution_count": 190,
   "metadata": {},
   "outputs": [
    {
     "name": "stdout",
     "output_type": "stream",
     "text": [
      "Weight coefficients:  [[ -3.64653371e-06]]\n",
      "y-axis intercept:  [ 206052.34540076]\n"
     ]
    }
   ],
   "source": [
    "# Get linear model\n",
    "coefficient = model.coef_\n",
    "y_intercept = model.intercept_\n",
    "print('Weight coefficients: ', coefficient)\n",
    "print('y-axis intercept: ', y_intercept) "
   ]
  },
  {
   "cell_type": "markdown",
   "metadata": {},
   "source": [
    "Linear model: y = 4.74838429 - 2.21354114e-10x"
   ]
  },
  {
   "cell_type": "code",
   "execution_count": 191,
   "metadata": {},
   "outputs": [
    {
     "name": "stdout",
     "output_type": "stream",
     "text": [
      "True output: [202159]\n",
      "Predicted output: [ 204018.4262635]\n",
      "Prediction Error: [ 1859.4262635]\n"
     ]
    }
   ],
   "source": [
    "# Make predictions\n",
    "predictions = model.predict(X)\n",
    "print(f\"True output: {y[0]}\")\n",
    "print(f\"Predicted output: {predictions[0]}\")\n",
    "print(f\"Prediction Error: {predictions[0]-y[0]}\")"
   ]
  },
  {
   "cell_type": "code",
   "execution_count": 193,
   "metadata": {},
   "outputs": [
    {
     "name": "stdout",
     "output_type": "stream",
     "text": [
      "Mean Squared Error (MSE): 32619630.22006719\n",
      "R-squared (R2 ): 0.13441686013485687\n"
     ]
    }
   ],
   "source": [
    "# Score the prediction with mse and r2\n",
    "from sklearn.metrics import mean_squared_error, r2_score\n",
    "\n",
    "mse = mean_squared_error(y, predictions)\n",
    "r2 = r2_score(y, predictions)\n",
    "\n",
    "print(f\"Mean Squared Error (MSE): {mse}\")\n",
    "print(f\"R-squared (R2 ): {r2}\")"
   ]
  },
  {
   "cell_type": "code",
   "execution_count": 194,
   "metadata": {},
   "outputs": [
    {
     "name": "stdout",
     "output_type": "stream",
     "text": [
      "Min X Value: 1205096441.00\n",
      "Max X Value: 557767814.00\n",
      "<class 'str'>\n"
     ]
    }
   ],
   "source": [
    "# Get minimum and maximum input values\n",
    "x_min = X.min()\n",
    "x_max = X.max()\n",
    "print(f\"Min X Value: {x_min}\")\n",
    "print(f\"Max X Value: {x_max}\")\n",
    "print(type(x_min))"
   ]
  },
  {
   "cell_type": "code",
   "execution_count": 195,
   "metadata": {},
   "outputs": [
    {
     "name": "stdout",
     "output_type": "stream",
     "text": [
      "Min y Value: 186148\n",
      "Max y Value: 211454\n",
      "<class 'numpy.int64'>\n"
     ]
    }
   ],
   "source": [
    "# Get minimum and maximum output values\n",
    "y_min_actual = y.min()\n",
    "y_max_actual = y.max()\n",
    "print(f\"Min y Value: {y_min_actual}\")\n",
    "print(f\"Max y Value: {y_max_actual}\")\n",
    "print(type(y_min_actual))"
   ]
  },
  {
   "cell_type": "code",
   "execution_count": 167,
   "metadata": {},
   "outputs": [],
   "source": [
    "# # Calculate the min and max output values using model.predict\n",
    "# y_min = model.predict(x_min)\n",
    "# y_max = model.predict(x_max)\n",
    "# print(f\"Actual Min Value: {y_min_actual}\")\n",
    "# print(f\"Predicted Min Value: {y_min}\")\n",
    "# print(f\"Actual Max Value: {y_max_actual}\")\n",
    "# print(f\"Predicted Max Value: {y_max}\")"
   ]
  },
  {
   "cell_type": "code",
   "execution_count": 196,
   "metadata": {},
   "outputs": [
    {
     "data": {
      "text/plain": [
       "[<matplotlib.lines.Line2D at 0x235d2145630>]"
      ]
     },
     "execution_count": 196,
     "metadata": {},
     "output_type": "execute_result"
    },
    {
     "data": {
      "image/png": "[encoded data removed]",
      "text/plain": [
       "<matplotlib.figure.Figure at 0x235d21455c0>"
      ]
     },
     "metadata": {},
     "output_type": "display_data"
    }
   ],
   "source": [
    "# show the model fit by plotting the predicted values against the original data\n",
    "plt.scatter(X, y, c='blue')\n",
    "# plt.plot([x_min, x_max], [y_min, y_max], c='red', lw=1)\n",
    "plt.plot(X, predictions, 'green')"
   ]
  },
  {
   "cell_type": "markdown",
   "metadata": {},
   "source": [
    "# Prediction"
   ]
  },
  {
   "cell_type": "code",
   "execution_count": 197,
   "metadata": {
    "collapsed": true
   },
   "outputs": [],
   "source": [
    "# Use train_test_split to create training and testing data\n",
    "from sklearn.model_selection import train_test_split\n",
    "X_train, X_test, y_train, y_test = train_test_split(X, y, random_state=42)"
   ]
  },
  {
   "cell_type": "code",
   "execution_count": 198,
   "metadata": {
    "collapsed": true
   },
   "outputs": [],
   "source": [
    "# Create the model using LinearRegression\n",
    "from sklearn.linear_model import LinearRegression\n",
    "model = LinearRegression()"
   ]
  },
  {
   "cell_type": "code",
   "execution_count": 199,
   "metadata": {},
   "outputs": [
    {
     "name": "stdout",
     "output_type": "stream",
     "text": [
      "Training Score: 0.1601062765557516\n",
      "Testing Score: -1.7788217316639214\n"
     ]
    }
   ],
   "source": [
    "# Fit the model to the training data and calculate the overall scores for the training and testing data\n",
    "model.fit(X_train, y_train)\n",
    "training_score = model.score(X_train, y_train)\n",
    "testing_score = model.score(X_test, y_test)\n",
    "\n",
    "print(f\"Training Score: {training_score}\")\n",
    "print(f\"Testing Score: {testing_score}\")"
   ]
  },
  {
   "cell_type": "code",
   "execution_count": 200,
   "metadata": {},
   "outputs": [
    {
     "data": {
      "text/plain": [
       "<matplotlib.text.Text at 0x235d2283e48>"
      ]
     },
     "execution_count": 200,
     "metadata": {},
     "output_type": "execute_result"
    },
    {
     "data": {
      "image/png": "[encoded data removed]",
      "text/plain": [
       "<matplotlib.figure.Figure at 0x235d21d31d0>"
      ]
     },
     "metadata": {},
     "output_type": "display_data"
    }
   ],
   "source": [
    "# Plot the Residuals for the Training and Testing data\n",
    "\n",
    "plt.scatter(model.predict(X_train), model.predict(X_train) - y_train, c=\"blue\", label=\"Training Data\")\n",
    "plt.scatter(model.predict(X_test), model.predict(X_test) - y_test, c=\"orange\", label=\"Testing Data\")\n",
    "plt.legend()\n",
    "plt.hlines(y=0, xmin=y.min(), xmax=y.max())\n",
    "plt.title(\"Residual Plot\")"
   ]
  },
  {
   "cell_type": "code",
   "execution_count": 201,
   "metadata": {},
   "outputs": [
    {
     "data": {
      "text/plain": [
       "(8, 1)"
      ]
     },
     "execution_count": 201,
     "metadata": {},
     "output_type": "execute_result"
    }
   ],
   "source": [
    "y_train.shape"
   ]
  },
  {
   "cell_type": "code",
   "execution_count": 202,
   "metadata": {},
   "outputs": [
    {
     "data": {
      "text/plain": [
       "<matplotlib.collections.PathCollection at 0x235d224c320>"
      ]
     },
     "execution_count": 202,
     "metadata": {},
     "output_type": "execute_result"
    },
    {
     "data": {
      "image/png": "[encoded data removed]",
      "text/plain": [
       "<matplotlib.figure.Figure at 0x235d224c278>"
      ]
     },
     "metadata": {},
     "output_type": "display_data"
    }
   ],
   "source": [
    "plt.scatter(X_train, model.predict(X_train))\n",
    "plt.scatter(X_train, y_train)"
   ]
  },
  {
   "cell_type": "code",
   "execution_count": 203,
   "metadata": {},
   "outputs": [
    {
     "data": {
      "image/png": "[encoded data removed]",
      "text/plain": [
       "<matplotlib.figure.Figure at 0x235d2365cc0>"
      ]
     },
     "metadata": {},
     "output_type": "display_data"
    }
   ],
   "source": [
    "# Make predictions using the X_test data\n",
    "# Plot y_test vs y_test\n",
    "# Scatter plot y_test vs predictions\n",
    "\n",
    "predictions = model.predict(X_test)\n",
    "plt.scatter(y_test, predictions, c='blue')\n",
    "plt.plot(y_test, y_test, c='red')\n",
    "plt.show()"
   ]
  },
  {
   "cell_type": "code",
   "execution_count": 204,
   "metadata": {},
   "outputs": [
    {
     "name": "stdout",
     "output_type": "stream",
     "text": [
      "MSE: 12391727.573808582, R2: -1.7788217316639214\n"
     ]
    }
   ],
   "source": [
    "# Used X_test_scaled, y_test_scaled, and model.predict(X_test_scaled) to calculate MSE and R2\n",
    "from sklearn.metrics import mean_squared_error\n",
    "\n",
    "MSE = mean_squared_error(y_test, predictions)\n",
    "r2 = model.score(X_test, y_test)\n",
    "\n",
    "print(f\"MSE: {MSE}, R2: {r2}\")"
   ]
  },
  {
   "cell_type": "code",
   "execution_count": 205,
   "metadata": {},
   "outputs": [
    {
     "name": "stdout",
     "output_type": "stream",
     "text": [
      "Weight coefficients:  [[ -5.35916225e-06]]\n",
      "y-axis intercept:  [ 209489.34452107]\n"
     ]
    }
   ],
   "source": [
    "# Get linear model\n",
    "coefficient = model.coef_\n",
    "y_intercept = model.intercept_\n",
    "print('Weight coefficients: ', coefficient)\n",
    "print('y-axis intercept: ', y_intercept) "
   ]
  },
  {
   "cell_type": "markdown",
   "metadata": {},
   "source": [
    "Linear model: y = 4.85681945 - 2.74127754e-10x"
   ]
  },
  {
   "cell_type": "code",
   "execution_count": null,
   "metadata": {
    "collapsed": true
   },
   "outputs": [],
   "source": []
  }
 ],
 "metadata": {
  "kernelspec": {
   "display_name": "Python [conda root]",
   "language": "python",
   "name": "conda-root-py"
  },
  "language_info": {
   "codemirror_mode": {
    "name": "ipython",
    "version": 3
   },
   "file_extension": ".py",
   "mimetype": "text/x-python",
   "name": "python",
   "nbconvert_exporter": "python",
   "pygments_lexer": "ipython3",
   "version": "3.6.2"
  }
 },
 "nbformat": 4,
 "nbformat_minor": 2
}
