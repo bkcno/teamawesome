{
 "cells": [
  {
   "cell_type": "code",
   "execution_count": 1,
   "metadata": {
    "collapsed": true,
    "slideshow": {
     "slide_type": "skip"
    }
   },
   "outputs": [],
   "source": [
    "%matplotlib inline\n",
    "import matplotlib.pyplot as plt\n",
    "import numpy as np\n",
    "import pandas as pd"
   ]
  },
  {
   "cell_type": "code",
   "execution_count": 2,
   "metadata": {
    "slideshow": {
     "slide_type": "slide"
    }
   },
   "outputs": [],
   "source": [
    "education = pd.read_csv('education_to2010.csv')\n",
    "correction = pd.read_csv('corrections_to2010.csv')\n",
    "crime = pd.read_csv('crime_to2010.csv')\n",
    "\n",
    "education.reset_index(inplace=True)\n",
    "correction.reset_index(inplace=True)\n",
    "crime.reset_index(inplace=True)"
   ]
  },
  {
   "cell_type": "code",
   "execution_count": 4,
   "metadata": {},
   "outputs": [
    {
     "data": {
      "text/html": [
       "<div>\n",
       "<style>\n",
       "    .dataframe thead tr:only-child th {\n",
       "        text-align: right;\n",
       "    }\n",
       "\n",
       "    .dataframe thead th {\n",
       "        text-align: left;\n",
       "    }\n",
       "\n",
       "    .dataframe tbody tr th {\n",
       "        vertical-align: top;\n",
       "    }\n",
       "</style>\n",
       "<table border=\"1\" class=\"dataframe\">\n",
       "  <thead>\n",
       "    <tr style=\"text-align: right;\">\n",
       "      <th></th>\n",
       "      <th>index_x</th>\n",
       "      <th>State</th>\n",
       "      <th>state_abbr</th>\n",
       "      <th>latitude</th>\n",
       "      <th>longitude</th>\n",
       "      <th>edu_2000</th>\n",
       "      <th>edu_2001</th>\n",
       "      <th>edu_2002</th>\n",
       "      <th>edu_2003</th>\n",
       "      <th>edu_2004</th>\n",
       "      <th>...</th>\n",
       "      <th>cri_2001</th>\n",
       "      <th>cri_2002</th>\n",
       "      <th>cri_2003</th>\n",
       "      <th>cri_2004</th>\n",
       "      <th>cri_2005</th>\n",
       "      <th>cri_2006</th>\n",
       "      <th>cri_2007</th>\n",
       "      <th>cri_2008</th>\n",
       "      <th>cri_2009</th>\n",
       "      <th>cri_2010</th>\n",
       "    </tr>\n",
       "  </thead>\n",
       "  <tbody>\n",
       "    <tr>\n",
       "      <th>0</th>\n",
       "      <td>0</td>\n",
       "      <td>Alabama</td>\n",
       "      <td>AL</td>\n",
       "      <td>32.7990</td>\n",
       "      <td>-86.8073</td>\n",
       "      <td>557767814</td>\n",
       "      <td>1205096441</td>\n",
       "      <td>1387975241</td>\n",
       "      <td>1584581070</td>\n",
       "      <td>1672101861</td>\n",
       "      <td>...</td>\n",
       "      <td>192835</td>\n",
       "      <td>200331</td>\n",
       "      <td>201572</td>\n",
       "      <td>201664</td>\n",
       "      <td>197071</td>\n",
       "      <td>200578</td>\n",
       "      <td>204530</td>\n",
       "      <td>211454</td>\n",
       "      <td>198808</td>\n",
       "      <td>186148</td>\n",
       "    </tr>\n",
       "    <tr>\n",
       "      <th>1</th>\n",
       "      <td>1</td>\n",
       "      <td>Alaska</td>\n",
       "      <td>AK</td>\n",
       "      <td>61.3850</td>\n",
       "      <td>-152.2683</td>\n",
       "      <td>177881580</td>\n",
       "      <td>227988480</td>\n",
       "      <td>260180178</td>\n",
       "      <td>280079667</td>\n",
       "      <td>299103691</td>\n",
       "      <td>...</td>\n",
       "      <td>26895</td>\n",
       "      <td>27745</td>\n",
       "      <td>28130</td>\n",
       "      <td>26331</td>\n",
       "      <td>28169</td>\n",
       "      <td>28765</td>\n",
       "      <td>27617</td>\n",
       "      <td>24598</td>\n",
       "      <td>24998</td>\n",
       "      <td>24796</td>\n",
       "    </tr>\n",
       "    <tr>\n",
       "      <th>2</th>\n",
       "      <td>2</td>\n",
       "      <td>Arizona</td>\n",
       "      <td>AZ</td>\n",
       "      <td>33.7712</td>\n",
       "      <td>-111.3877</td>\n",
       "      <td>667976456</td>\n",
       "      <td>1990909460</td>\n",
       "      <td>2520137525</td>\n",
       "      <td>3103945066</td>\n",
       "      <td>4312713049</td>\n",
       "      <td>...</td>\n",
       "      <td>322549</td>\n",
       "      <td>348467</td>\n",
       "      <td>342973</td>\n",
       "      <td>335699</td>\n",
       "      <td>317823</td>\n",
       "      <td>316286</td>\n",
       "      <td>310394</td>\n",
       "      <td>307979</td>\n",
       "      <td>261511</td>\n",
       "      <td>251978</td>\n",
       "    </tr>\n",
       "    <tr>\n",
       "      <th>3</th>\n",
       "      <td>3</td>\n",
       "      <td>Arkansas</td>\n",
       "      <td>AR</td>\n",
       "      <td>34.9513</td>\n",
       "      <td>-92.3809</td>\n",
       "      <td>328403457</td>\n",
       "      <td>618218324</td>\n",
       "      <td>733650835</td>\n",
       "      <td>829601733</td>\n",
       "      <td>888970231</td>\n",
       "      <td>...</td>\n",
       "      <td>111296</td>\n",
       "      <td>112672</td>\n",
       "      <td>111141</td>\n",
       "      <td>124201</td>\n",
       "      <td>127434</td>\n",
       "      <td>127027</td>\n",
       "      <td>127068</td>\n",
       "      <td>123882</td>\n",
       "      <td>123997</td>\n",
       "      <td>118510</td>\n",
       "    </tr>\n",
       "    <tr>\n",
       "      <th>4</th>\n",
       "      <td>4</td>\n",
       "      <td>California</td>\n",
       "      <td>CA</td>\n",
       "      <td>36.1700</td>\n",
       "      <td>-119.7462</td>\n",
       "      <td>3792096590</td>\n",
       "      <td>7895473833</td>\n",
       "      <td>9092121808</td>\n",
       "      <td>9928105199</td>\n",
       "      <td>10825485264</td>\n",
       "      <td>...</td>\n",
       "      <td>1346557</td>\n",
       "      <td>1384872</td>\n",
       "      <td>1420637</td>\n",
       "      <td>1425264</td>\n",
       "      <td>1390709</td>\n",
       "      <td>1350137</td>\n",
       "      <td>1299685</td>\n",
       "      <td>1265920</td>\n",
       "      <td>1184073</td>\n",
       "      <td>1146072</td>\n",
       "    </tr>\n",
       "  </tbody>\n",
       "</table>\n",
       "<p>5 rows × 40 columns</p>\n",
       "</div>"
      ],
      "text/plain": [
       "   index_x       State state_abbr  latitude  longitude    edu_2000  \\\n",
       "0        0     Alabama         AL   32.7990   -86.8073   557767814   \n",
       "1        1      Alaska         AK   61.3850  -152.2683   177881580   \n",
       "2        2     Arizona         AZ   33.7712  -111.3877   667976456   \n",
       "3        3    Arkansas         AR   34.9513   -92.3809   328403457   \n",
       "4        4  California         CA   36.1700  -119.7462  3792096590   \n",
       "\n",
       "     edu_2001    edu_2002    edu_2003     edu_2004    ...     cri_2001  \\\n",
       "0  1205096441  1387975241  1584581070   1672101861    ...       192835   \n",
       "1   227988480   260180178   280079667    299103691    ...        26895   \n",
       "2  1990909460  2520137525  3103945066   4312713049    ...       322549   \n",
       "3   618218324   733650835   829601733    888970231    ...       111296   \n",
       "4  7895473833  9092121808  9928105199  10825485264    ...      1346557   \n",
       "\n",
       "   cri_2002  cri_2003  cri_2004  cri_2005  cri_2006  cri_2007  cri_2008  \\\n",
       "0    200331    201572    201664    197071    200578    204530    211454   \n",
       "1     27745     28130     26331     28169     28765     27617     24598   \n",
       "2    348467    342973    335699    317823    316286    310394    307979   \n",
       "3    112672    111141    124201    127434    127027    127068    123882   \n",
       "4   1384872   1420637   1425264   1390709   1350137   1299685   1265920   \n",
       "\n",
       "   cri_2009  cri_2010  \n",
       "0    198808    186148  \n",
       "1     24998     24796  \n",
       "2    261511    251978  \n",
       "3    123997    118510  \n",
       "4   1184073   1146072  \n",
       "\n",
       "[5 rows x 40 columns]"
      ]
     },
     "execution_count": 4,
     "metadata": {},
     "output_type": "execute_result"
    }
   ],
   "source": [
    "df = education.merge(correction,on='State').merge(crime,on='State')\n",
    "df.head()"
   ]
  },
  {
   "cell_type": "code",
   "execution_count": 5,
   "metadata": {
    "slideshow": {
     "slide_type": "fragment"
    }
   },
   "outputs": [
    {
     "name": "stdout",
     "output_type": "stream",
     "text": [
      "(50, 3) (50,)\n"
     ]
    }
   ],
   "source": [
    "X = df[[\"edu_2000\", \"cor_2000\",\"cri_2000\"]]\n",
    "y = df[\"cri_2001\"]\n",
    "\n",
    "print(X.shape, y.shape)"
   ]
  },
  {
   "cell_type": "code",
   "execution_count": 11,
   "metadata": {
    "slideshow": {
     "slide_type": "fragment"
    }
   },
   "outputs": [],
   "source": [
    "from sklearn.model_selection import train_test_split\n",
    "\n",
    "X_train, X_test, y_train, y_test = train_test_split(X, y, random_state=50)"
   ]
  },
  {
   "cell_type": "code",
   "execution_count": 12,
   "metadata": {
    "slideshow": {
     "slide_type": "subslide"
    }
   },
   "outputs": [],
   "source": [
    "# Create the model using LinearRegression\n",
    "from sklearn.linear_model import LinearRegression\n",
    "model = LinearRegression()"
   ]
  },
  {
   "cell_type": "code",
   "execution_count": 13,
   "metadata": {
    "slideshow": {
     "slide_type": "slide"
    }
   },
   "outputs": [
    {
     "name": "stdout",
     "output_type": "stream",
     "text": [
      "Training Score: 0.9983389170229959\n",
      "Testing Score: 0.9897225080224396\n"
     ]
    }
   ],
   "source": [
    "model.fit(X_train, y_train)\n",
    "training_score = model.score(X_train, y_train)\n",
    "testing_score = model.score(X_test, y_test)\n",
    "\n",
    "print(f\"Training Score: {training_score}\")\n",
    "print(f\"Testing Score: {testing_score}\")"
   ]
  },
  {
   "cell_type": "code",
   "execution_count": 27,
   "metadata": {
    "slideshow": {
     "slide_type": "fragment"
    }
   },
   "outputs": [
    {
     "data": {
      "text/plain": [
       "<matplotlib.text.Text at 0x112d8e390>"
      ]
     },
     "execution_count": 27,
     "metadata": {},
     "output_type": "execute_result"
    },
    {
     "data": {
      "image/png": "[encoded data removed]",
      "text/plain": [
       "<matplotlib.figure.Figure at 0x112a1dd68>"
      ]
     },
     "metadata": {},
     "output_type": "display_data"
    }
   ],
   "source": [
    "# Plot the Residuals for the Training and Testing data\n",
    "\n",
    "plt.scatter(model.predict(X_train), model.predict(X_train) - y_train, c=\"blue\", label=\"Training Data\")\n",
    "plt.scatter(model.predict(X_test), model.predict(X_test) - y_test, c=\"orange\", label=\"Testing Data\")\n",
    "plt.legend()\n",
    "plt.hlines(y=0, xmin=y.min(), xmax=y.max())\n",
    "plt.title(\"Residual Plot\")\n"
   ]
  },
  {
   "cell_type": "code",
   "execution_count": 25,
   "metadata": {
    "slideshow": {
     "slide_type": "subslide"
    }
   },
   "outputs": [
    {
     "data": {
      "text/plain": [
       "(37,)"
      ]
     },
     "execution_count": 25,
     "metadata": {},
     "output_type": "execute_result"
    }
   ],
   "source": [
    "y_train.shape"
   ]
  },
  {
   "cell_type": "code",
   "execution_count": 26,
   "metadata": {},
   "outputs": [
    {
     "data": {
      "text/plain": [
       "<matplotlib.collections.PathCollection at 0x112bb2390>"
      ]
     },
     "execution_count": 26,
     "metadata": {},
     "output_type": "execute_result"
    },
    {
     "data": {
      "image/png": "[encoded data removed]",
      "text/plain": [
       "<matplotlib.figure.Figure at 0x1129265c0>"
      ]
     },
     "metadata": {},
     "output_type": "display_data"
    }
   ],
   "source": [
    "plt.scatter(X_train['edu_2000'], model.predict(X_train))\n",
    "plt.scatter(X_train['edu_2000'], y_train)"
   ]
  },
  {
   "cell_type": "code",
   "execution_count": null,
   "metadata": {
    "collapsed": true
   },
   "outputs": [],
   "source": []
  }
 ],
 "metadata": {
  "anaconda-cloud": {},
  "kernelspec": {
   "display_name": "Python [default]",
   "language": "python",
   "name": "python3"
  },
  "language_info": {
   "codemirror_mode": {
    "name": "ipython",
    "version": 3
   },
   "file_extension": ".py",
   "mimetype": "text/x-python",
   "name": "python",
   "nbconvert_exporter": "python",
   "pygments_lexer": "ipython3",
   "version": "3.6.1"
  },
  "varInspector": {
   "cols": {
    "lenName": 16,
    "lenType": 16,
    "lenVar": 40
   },
   "kernels_config": {
    "python": {
     "delete_cmd_postfix": "",
     "delete_cmd_prefix": "del ",
     "library": "var_list.py",
     "varRefreshCmd": "print(var_dic_list())"
    },
    "r": {
     "delete_cmd_postfix": ") ",
     "delete_cmd_prefix": "rm(",
     "library": "var_list.r",
     "varRefreshCmd": "cat(var_dic_list()) "
    }
   },
   "types_to_exclude": [
    "module",
    "function",
    "builtin_function_or_method",
    "instance",
    "_Feature"
   ],
   "window_display": false
  }
 },
 "nbformat": 4,
 "nbformat_minor": 2
}
